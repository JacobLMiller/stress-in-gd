{
 "cells": [
  {
   "cell_type": "code",
   "execution_count": null,
   "metadata": {},
   "outputs": [],
   "source": [
    "import re\n",
    "\n",
    "\n",
    "pattern = r'@(\\w+)\\{((?:[^{}]*|\\{(?:[^{}]*|\\{[^{}]*\\})*\\})*)\\}'\n",
    "\n",
    "with open('bib/references.bib','r') as fdata:\n",
    "    text = fdata.read()\n",
    "\n",
    "import bibtexparser\n",
    "bibs = bibtexparser.parse_string(text)\n",
    "import json \n",
    "# json.dumps(bibs.entries_dict,indent=4)\n",
    "\n",
    "for name,entry in bibs.entries_dict.items():\n",
    "    print(entry)\n",
    "\n",
    "with open(\"webcrawl-data.json\", 'r') as fdata:\n",
    "    data = json.load(fdata)\n",
    "\n",
    "print(len(data))\n",
    "\n",
    "import requests\n",
    "\n",
    "def get_doi_bibtex(doi):\n",
    "    base_url = f\"https://doi.org/{doi}\"\n",
    "    headers = {\n",
    "        \"Accept\": \"application/citeproc+json\"\n",
    "    }\n",
    "    response = requests.get(base_url, headers=headers)\n",
    "\n",
    "    if response.status_code == 200:\n",
    "        return response.text.strip()\n",
    "    else:\n",
    "        print(response.status_code)\n",
    "        print(response.text)\n",
    "        return None\n",
    "    \n",
    "def jsonToEntry(data):\n",
    "    try: \n",
    "        obj = {\n",
    "            \"id\": data[\"author\"][0][\"family\"] + str(data[\"published\"][\"date-parts\"][0][0]),\n",
    "            \"title\": data[\"title\"],\n",
    "            \"booktitle\": data[\"container-title\"], \n",
    "            \"doi\": data[\"DOI\"],   \n",
    "            \"citation_count\": data[\"is-referenced-by-count\"], \n",
    "            \"keywords\": \"None\"\n",
    "        }\n",
    "        return obj\n",
    "    except: \n",
    "        return None\n",
    "\n",
    "import tqdm\n",
    "import time\n",
    "new_data = list()\n",
    "for entry in tqdm.tqdm(data):\n",
    "    if entry['id'] == \"unknown\":\n",
    "        doiData = get_doi_bibtex(entry['doi'])\n",
    "        if not doiData: continue \n",
    "        doiData = json.loads(doiData)\n",
    "        \n",
    "        with open(\"test.json\", 'w') as fdata:\n",
    "            json.dump(doiData,fdata,indent=4)\n",
    "\n",
    "        newEntry = jsonToEntry(doiData)\n",
    "        if newEntry:\n",
    "            new_data.append(newEntry)\n",
    "        time.sleep(0.1)\n",
    "\n",
    "\n",
    "data = [e for e in data if e['id'] != \"unknown\"]\n",
    "data.extend(new_data)\n",
    "\n",
    "with open(\"updated-crawl.json\", 'w') as fdata:\n",
    "    json.dump(data,fdata,indent=4)\n"
   ]
  },
  {
   "cell_type": "code",
   "execution_count": 1,
   "metadata": {},
   "outputs": [],
   "source": [
    "import json\n",
    "with open(\"updated-crawl.json\") as fdata:\n",
    "    data = json.load(fdata)\n",
    "\n",
    "keywords = {\"graph\", \"network\", \"mds\", \"scaling\", \"dimension\", \"som\", \"layout\", \"embed\", \"drawing\"}\n",
    "\n",
    "def check_substrings_in_string(keywords,word):\n",
    "    for keyword in keywords:\n",
    "        if keyword in word: return True \n",
    "\n",
    "    return False\n",
    "\n",
    "toSave = list()\n",
    "for entry in data:\n",
    "    if check_substrings_in_string(keywords,entry['title'].lower()):\n",
    "        toSave.append(entry)"
   ]
  },
  {
   "cell_type": "code",
   "execution_count": 3,
   "metadata": {},
   "outputs": [
    {
     "data": {
      "text/plain": [
       "1615"
      ]
     },
     "execution_count": 3,
     "metadata": {},
     "output_type": "execute_result"
    }
   ],
   "source": [
    "len(toSave)"
   ]
  },
  {
   "cell_type": "code",
   "execution_count": 4,
   "metadata": {},
   "outputs": [],
   "source": [
    "import requests\n",
    "\n",
    "def get_doi_bibtex(doi):\n",
    "    base_url = f\"https://doi.org/{doi}\"\n",
    "    headers = {\n",
    "        \"Accept\": \"text/bibliography; style=bibtex\"\n",
    "    }\n",
    "    response = requests.get(base_url, headers=headers)\n",
    "\n",
    "    if response.status_code == 200:\n",
    "        return response.text.strip()\n",
    "    else:\n",
    "        print(response.status_code)\n",
    "        print(response.text)\n",
    "        return None"
   ]
  },
  {
   "cell_type": "code",
   "execution_count": 5,
   "metadata": {},
   "outputs": [
    {
     "name": "stdout",
     "output_type": "stream",
     "text": [
      "404\n",
      "<!DOCTYPE html>\n",
      "<html lang=\"ko\">\n",
      "<head>\n",
      "\t<meta charset=\"utf-8\">\n",
      "\t<meta name=\"viewport\" content=\"width=device-width, initial-scale=1.0\">\n",
      "\t<title>404 Error</title>\n",
      "\n",
      "\t<!-- HTML5 Shim and Respond.js IE8 support of HTML5 elements and media queries -->\n",
      "\t<!--[if lt IE 9]>\n",
      "\t<script src=\"/js/html5shiv.min.js\"></script>\n",
      "\t<script src=\"/js/html5shiv-printshiv.min.js\"></script>\n",
      "\t<script src=\"https://oss.maxcdn.com/libs/respond.js/1.3.0/respond.min.js\"></script>\n",
      "\t<![endif]-->\n",
      "\n",
      "\n",
      "\t<!--[if lt IE 10]>\n",
      "\t<style type=\"text/css\">.placeholder { color: #aaa; }</style>\n",
      "\t<script src=\"/jquery/jquery.placeholder.min.js\"></script>\n",
      "\t<script>$(function() { $('input, textarea').placeholder(); });</script>\n",
      "\t<![endif]-->\n",
      "\n",
      "\t<link rel=\"stylesheet\" type=\"text/css\" href=\"//fonts.googleapis.com/css?family=Open+Sans:300,400,600,700\">\n",
      "\n",
      "\t<link rel=\"stylesheet\" type=\"text/css\" href=\"/jquery/toastr/toastr.min.css\">\n",
      "\t<link rel=\"stylesheet\" type=\"text/css\" href=\"/jquery/sweetalert/sweetalert.css\">\n",
      "\n",
      "\t<link rel=\"stylesheet\" type=\"text/css\" href=\"/bootstrap/css/bootstrap.min.css\">\n",
      "\t<link rel=\"stylesheet\" type=\"text/css\" href=\"/css/bootstrap-helper.css\">\n",
      " \t<link rel=\"stylesheet\" type=\"text/css\" href=\"/css/font-awesome.min.css\">\n",
      "\t<link rel=\"stylesheet\" type=\"text/css\" href=\"/css/daum.css\">\n",
      "\t<link rel=\"stylesheet\" type=\"text/css\" href=\"/css/style.css\">\n",
      "\t<link rel=\"stylesheet\" type=\"text/css\" href=\"/css/animate.css\">\n",
      "\t<link rel=\"stylesheet\" type=\"text/css\" href=\"/css/helper.css\">\n",
      "\t<link rel=\"stylesheet\" type=\"text/css\" href=\"/css/base.css\">\n",
      "</head>\n",
      "\n",
      "<body class=\"gray-bg\">\n",
      "\t<div class=\"middle-box text-center animated fadeInDown\">\n",
      "\t\t<h1>404</h1>\n",
      "\t\t<h3 class=\"font-bold\">Page Not Found</h3>\n",
      "\n",
      "\t\t<div class=\"error-desc\">\n",
      "\t\t\t죄송합니다. 요청하신 페이지가 없거나, 등록되지 않은 DOI 입니다.\n",
      "\t\t</div>\n",
      "\t\t<div class=\"error-desc\">\n",
      "\t\t\t<button type=\"button\" class=\"btn btn-primary m-t\" onclick=\"history.back()\">뒤로 가기</button>\n",
      "\t\t\t<a href=\"/\" class=\"btn btn-default m-t\">시작 페이지로 가기</a>\n",
      "\t\t</div>\n",
      "\t</div>\n",
      "</body>\n",
      "\n",
      "</html>\n",
      "\n"
     ]
    }
   ],
   "source": [
    "bibitems = [get_doi_bibtex(d['doi']) for d in toSave]"
   ]
  },
  {
   "cell_type": "code",
   "execution_count": 26,
   "metadata": {},
   "outputs": [],
   "source": [
    "bibitems = [bib for bib in bibitems if bib and \"<!DOCTYPE\" not in bib]"
   ]
  },
  {
   "cell_type": "code",
   "execution_count": 27,
   "metadata": {},
   "outputs": [
    {
     "data": {
      "text/plain": [
       "'@article{Kruiger_2017, title={Graph Layouts by t‐SNE}, volume={36}, ISSN={1467-8659}, url={http://dx.doi.org/10.1111/cgf.13187}, DOI={10.1111/cgf.13187}, number={3}, journal={Computer Graphics Forum}, publisher={Wiley}, author={Kruiger, J. F. and Rauber, P. E. and Martins, R. M. and Kerren, A. and Kobourov, S. and Telea, A. C.}, year={2017}, month=jun, pages={283–294} }'"
      ]
     },
     "execution_count": 27,
     "metadata": {},
     "output_type": "execute_result"
    }
   ],
   "source": [
    "bibitems[2].encode('latin1').decode('utf-8')"
   ]
  },
  {
   "cell_type": "code",
   "execution_count": 28,
   "metadata": {},
   "outputs": [],
   "source": [
    "bibitems_newline = [bib.replace(\"},\", \"},\\n\") for bib in bibitems]\n",
    "bibitems_newline = [bib.replace(\",\",\",\\n\", 1) for bib in bibitems_newline]\n",
    "newitems = list()\n",
    "for bib in bibitems_newline:\n",
    "    try: \n",
    "        item = bib.encode('latin1').decode('utf-8')\n",
    "        newitems.append(item)\n",
    "    except:\n",
    "        newitems.append(bib.encode('utf-8').decode('utf-8'))\n",
    "bibitems_newline = newitems"
   ]
  },
  {
   "cell_type": "code",
   "execution_count": 29,
   "metadata": {},
   "outputs": [],
   "source": [
    "with open('references.bib', 'w') as fdata:\n",
    "    s = \"\\n\\n\".join(bibitems_newline)\n",
    "    fdata.write(s)"
   ]
  }
 ],
 "metadata": {
  "kernelspec": {
   "display_name": "citing",
   "language": "python",
   "name": "python3"
  },
  "language_info": {
   "codemirror_mode": {
    "name": "ipython",
    "version": 3
   },
   "file_extension": ".py",
   "mimetype": "text/x-python",
   "name": "python",
   "nbconvert_exporter": "python",
   "pygments_lexer": "ipython3",
   "version": "3.8.19"
  }
 },
 "nbformat": 4,
 "nbformat_minor": 2
}
